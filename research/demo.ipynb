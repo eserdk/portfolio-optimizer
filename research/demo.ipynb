{
 "cells": [
  {
   "cell_type": "code",
   "execution_count": null,
   "metadata": {
    "pycharm": {
     "name": "#%% imports\n"
    }
   },
   "outputs": [],
   "source": [
    "import pandas as pd\n",
    "\n",
    "from app.controller import get_top_coins, get_coins_prices, get_coins_market_caps, get_coins_total_volumes\n"
   ]
  },
  {
   "cell_type": "code",
   "execution_count": null,
   "metadata": {
    "pycharm": {
     "name": "#%% global values\n"
    }
   },
   "outputs": [],
   "source": [
    "max_days: int = 180\n",
    "min_days: int = 90\n",
    "num_coins: int = 50\n",
    "\n",
    "top_coingecko_coins = get_top_coins(num_coins)\n",
    "\n",
    "prices = get_coins_prices(top_coingecko_coins, max_days, min_days)\n",
    "market_caps = get_coins_market_caps(top_coingecko_coins, max_days, min_days)\n",
    "total_volumes = get_coins_total_volumes(top_coingecko_coins, max_days, min_days)"
   ]
  },
  {
   "cell_type": "code",
   "execution_count": null,
   "metadata": {
    "pycharm": {
     "name": "#%% prices\n"
    }
   },
   "outputs": [],
   "source": [
    "df_prices = pd.DataFrame.from_dict(prices, orient=\"index\").sort_index().dropna()\n",
    "df_prices.index = pd.to_datetime(df_prices.index)\n",
    "df_prices.tail()"
   ]
  },
  {
   "cell_type": "code",
   "execution_count": null,
   "metadata": {
    "pycharm": {
     "name": "#%% market caps\n"
    }
   },
   "outputs": [],
   "source": [
    "df_mcaps = pd.DataFrame.from_dict(market_caps, orient=\"index\").sort_index().dropna()\n",
    "df_mcaps.index = pd.to_datetime(df_mcaps.index)\n",
    "df_mcaps.tail()"
   ]
  },
  {
   "cell_type": "code",
   "execution_count": null,
   "metadata": {
    "pycharm": {
     "name": "#%% total volumes\n"
    }
   },
   "outputs": [],
   "source": [
    "df_vols = pd.DataFrame.from_dict(total_volumes, orient=\"index\").sort_index().dropna()\n",
    "df_vols.index = pd.to_datetime(df_vols.index)\n",
    "df_vols.tail()"
   ]
  }
 ],
 "metadata": {
  "kernelspec": {
   "display_name": "Python 3",
   "language": "python",
   "name": "python3"
  },
  "language_info": {
   "codemirror_mode": {
    "name": "ipython",
    "version": 2
   },
   "file_extension": ".py",
   "mimetype": "text/x-python",
   "name": "python",
   "nbconvert_exporter": "python",
   "pygments_lexer": "ipython2",
   "version": "2.7.6"
  }
 },
 "nbformat": 4,
 "nbformat_minor": 0
}
