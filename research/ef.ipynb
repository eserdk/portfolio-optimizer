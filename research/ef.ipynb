{
 "cells": [
  {
   "cell_type": "code",
   "execution_count": null,
   "metadata": {
    "pycharm": {
     "name": "#%% imports\n"
    }
   },
   "outputs": [],
   "source": [
    "import pandas as pd\n",
    "from pypfopt import EfficientFrontier, expected_returns, plotting, risk_models\n",
    "\n",
    "from app.backtesting import Backtesting\n",
    "from app.controller.crypto_controller import get_top_coins, get_coins_prices, get_coins_market_caps, get_coins_total_volumes\n",
    "\n",
    "%matplotlib inline"
   ]
  },
  {
   "cell_type": "code",
   "execution_count": null,
   "metadata": {
    "pycharm": {
     "name": "#%% global values\n"
    }
   },
   "outputs": [],
   "source": [
    "max_days: int = 180\n",
    "min_days: int = 90\n",
    "num_coins: int = 20\n",
    "\n",
    "top_coingecko_coins = get_top_coins(num_coins)\n",
    "\n",
    "prices = get_coins_prices(top_coingecko_coins, max_days, min_days)\n",
    "market_caps = get_coins_market_caps(top_coingecko_coins, max_days, min_days)\n",
    "total_volumes = get_coins_total_volumes(top_coingecko_coins, max_days, min_days)"
   ]
  },
  {
   "cell_type": "code",
   "execution_count": null,
   "metadata": {
    "pycharm": {
     "name": "#%% prices\n"
    }
   },
   "outputs": [],
   "source": [
    "df_prices = pd.DataFrame.from_dict(prices, orient=\"index\").sort_index().dropna()\n",
    "df_prices.index = pd.to_datetime(df_prices.index)\n",
    "df_prices.tail()"
   ]
  },
  {
   "cell_type": "code",
   "execution_count": null,
   "metadata": {
    "pycharm": {
     "name": "#%% market caps\n"
    }
   },
   "outputs": [],
   "source": [
    "df_mcaps = pd.DataFrame.from_dict(market_caps, orient=\"index\").sort_index().dropna()\n",
    "df_mcaps.index = pd.to_datetime(df_mcaps.index)\n",
    "df_mcaps.tail()"
   ]
  },
  {
   "cell_type": "code",
   "execution_count": null,
   "metadata": {
    "pycharm": {
     "name": "#%% total volumes\n"
    }
   },
   "outputs": [],
   "source": [
    "df_vols = pd.DataFrame.from_dict(total_volumes, orient=\"index\").sort_index().dropna()\n",
    "df_vols.index = pd.to_datetime(df_vols.index)\n",
    "df_vols.tail()"
   ]
  },
  {
   "cell_type": "code",
   "execution_count": null,
   "metadata": {
    "pycharm": {
     "name": "#%% compute a return estimate using the Capital Asset Pricing Model\n"
    }
   },
   "outputs": [],
   "source": [
    "mu = expected_returns.capm_return(df_prices, frequency=365)"
   ]
  },
  {
   "cell_type": "code",
   "execution_count": null,
   "metadata": {
    "pycharm": {
     "name": "#%% calculate the Oracle Approximating Shrinkage estimate\n"
    }
   },
   "outputs": [],
   "source": [
    "S = risk_models.CovarianceShrinkage(df_prices, frequency=365).oracle_approximating()"
   ]
  },
  {
   "cell_type": "code",
   "execution_count": null,
   "metadata": {
    "pycharm": {
     "name": "#%% correlation\n"
    }
   },
   "outputs": [],
   "source": [
    "print(\"Correlation\")\n",
    "correlation_plot = plotting.plot_covariance(S, plot_correlation=True, dpi=500)\n",
    "correlation_plot.figure.set_size_inches((12, 12))"
   ]
  },
  {
   "cell_type": "code",
   "execution_count": null,
   "metadata": {
    "pycharm": {
     "name": "#%% covariance\n"
    }
   },
   "outputs": [],
   "source": [
    "print(\"Covariance\")\n",
    "covariance_plot = plotting.plot_covariance(S, dpi=500)\n",
    "covariance_plot.figure.set_size_inches((12, 12))"
   ]
  },
  {
   "cell_type": "code",
   "execution_count": null,
   "metadata": {
    "pycharm": {
     "name": "#%% prepare backtesting instance\n"
    }
   },
   "outputs": [],
   "source": [
    "backtest = Backtesting(df_prices, add_raw_tickers=True)"
   ]
  },
  {
   "cell_type": "code",
   "execution_count": null,
   "metadata": {
    "pycharm": {
     "name": "#%% efficient frontier | min volatility\n"
    }
   },
   "outputs": [],
   "source": [
    "ef = EfficientFrontier(mu, S)\n",
    "ef.min_volatility()\n",
    "weights = ef.clean_weights(rounding=2)\n",
    "backtest.add_strategy(weights, name=\"ef_min_vol\")\n",
    "ef.portfolio_performance(verbose=True)"
   ]
  },
  {
   "cell_type": "code",
   "execution_count": null,
   "metadata": {
    "pycharm": {
     "name": "#%% efficient frontier | min volatility | weights\n"
    }
   },
   "outputs": [],
   "source": [
    "for asset, weight in sorted(weights.items(), key=lambda x: x[1], reverse=True):\n",
    "    if weight > 0:\n",
    "        print(f\"{asset}: {weight}\")\n"
   ]
  },
  {
   "cell_type": "code",
   "execution_count": null,
   "metadata": {
    "pycharm": {
     "name": "#%% efficient frontier | max sharpe\n"
    }
   },
   "outputs": [],
   "source": [
    "ef = EfficientFrontier(mu, S)\n",
    "ef.max_sharpe()\n",
    "weights = ef.clean_weights(rounding=2)\n",
    "backtest.add_strategy(weights, name=\"ef_max_sharpe\")\n",
    "ef.portfolio_performance(verbose=True)"
   ]
  },
  {
   "cell_type": "code",
   "execution_count": null,
   "metadata": {
    "pycharm": {
     "name": "#%% efficient frontier | max sharpe | weights\n"
    }
   },
   "outputs": [],
   "source": [
    "for asset, weight in sorted(weights.items(), key=lambda x: x[1], reverse=True):\n",
    "    if weight > 0:\n",
    "        print(f\"{asset}: {weight}\")\n"
   ]
  },
  {
   "cell_type": "code",
   "execution_count": null,
   "metadata": {
    "pycharm": {
     "name": "#%% efficient frontier | max quadratic\n"
    }
   },
   "outputs": [],
   "source": [
    "ef = EfficientFrontier(mu, S)\n",
    "ef.max_quadratic_utility()\n",
    "weights = ef.clean_weights(rounding=2)\n",
    "backtest.add_strategy(weights, name=\"ef_max_quadratic\")\n",
    "ef.portfolio_performance(verbose=True)"
   ]
  },
  {
   "cell_type": "code",
   "execution_count": null,
   "metadata": {
    "pycharm": {
     "name": "#%% efficient frontier | max quadratic | weights\n"
    }
   },
   "outputs": [],
   "source": [
    "for asset, weight in sorted(weights.items(), key=lambda x: x[1], reverse=True):\n",
    "    if weight > 0:\n",
    "        print(f\"{asset}: {weight}\")"
   ]
  },
  {
   "cell_type": "code",
   "execution_count": null,
   "metadata": {
    "pycharm": {
     "name": "#%% run backtesting\n"
    }
   },
   "outputs": [],
   "source": [
    "results = backtest.run()\n",
    "results.display()\n"
   ]
  },
  {
   "cell_type": "code",
   "execution_count": null,
   "metadata": {
    "pycharm": {
     "name": "#%%\n"
    }
   },
   "outputs": [],
   "source": [
    "results.plot(freq=\"D\", figsize=(20, 10), title=\"Capital gains\")"
   ]
  }
 ],
 "metadata": {
  "kernelspec": {
   "display_name": "Python 3",
   "language": "python",
   "name": "python3"
  },
  "language_info": {
   "codemirror_mode": {
    "name": "ipython",
    "version": 2
   },
   "file_extension": ".py",
   "mimetype": "text/x-python",
   "name": "python",
   "nbconvert_exporter": "python",
   "pygments_lexer": "ipython2",
   "version": "2.7.6"
  }
 },
 "nbformat": 4,
 "nbformat_minor": 0
}
