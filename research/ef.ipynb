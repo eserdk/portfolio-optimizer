{
 "cells": [
  {
   "cell_type": "code",
   "execution_count": null,
   "metadata": {
    "pycharm": {
     "name": "#%% imports\n"
    }
   },
   "outputs": [],
   "source": [
    "from typing import Collection\n",
    "\n",
    "from pypfopt import EfficientFrontier, expected_returns, plotting, risk_models\n",
    "\n",
    "from portfolio_optimization.engine.backtesting import Backtesting\n",
    "import yfinance as yf\n",
    "\n",
    "%matplotlib inline\n"
   ]
  },
  {
   "cell_type": "code",
   "execution_count": null,
   "metadata": {
    "pycharm": {
     "name": "#%% global values\n"
    }
   },
   "outputs": [],
   "source": [
    "tickers: Collection[str] = ('BTC-USD', 'ETH-USD', 'ADA-USD', 'EIMI.L', 'SUSW.L', 'WSML.L')\n",
    "df_prices = yf.download(' '.join(tickers), period=\"10y\", interval=\"1d\", group_by=\"ticker\").stack(level=0).rename_axis([\"Date\", \"Ticker\"]).unstack(level=1).ffill().dropna()[\"Adj Close\"]\n",
    "df_prices.tail(-5)\n"
   ]
  },
  {
   "cell_type": "code",
   "execution_count": null,
   "metadata": {
    "pycharm": {
     "name": "#%% compute a return estimate using the Capital Asset Pricing Model\n"
    }
   },
   "outputs": [],
   "source": [
    "mu = expected_returns.capm_return(df_prices, frequency=365)"
   ]
  },
  {
   "cell_type": "code",
   "execution_count": null,
   "metadata": {
    "pycharm": {
     "name": "#%% calculate the Oracle Approximating Shrinkage estimate\n"
    }
   },
   "outputs": [],
   "source": [
    "S = risk_models.CovarianceShrinkage(df_prices, frequency=365).oracle_approximating()"
   ]
  },
  {
   "cell_type": "code",
   "execution_count": null,
   "metadata": {
    "pycharm": {
     "name": "#%% correlation\n"
    }
   },
   "outputs": [],
   "source": [
    "print(\"Correlation\")\n",
    "correlation_plot = plotting.plot_covariance(S, plot_correlation=True, dpi=500)\n",
    "correlation_plot.figure.set_size_inches((12, 12))"
   ]
  },
  {
   "cell_type": "code",
   "execution_count": null,
   "metadata": {
    "pycharm": {
     "name": "#%% covariance\n"
    }
   },
   "outputs": [],
   "source": [
    "print(\"Covariance\")\n",
    "covariance_plot = plotting.plot_covariance(S, dpi=500)\n",
    "covariance_plot.figure.set_size_inches((12, 12))"
   ]
  },
  {
   "cell_type": "code",
   "execution_count": null,
   "metadata": {
    "pycharm": {
     "name": "#%% prepare backtesting instance\n"
    }
   },
   "outputs": [],
   "source": [
    "backtest = Backtesting(df_prices, add_raw_tickers=True)"
   ]
  },
  {
   "cell_type": "code",
   "execution_count": null,
   "metadata": {
    "pycharm": {
     "name": "#%% efficient frontier | min volatility\n"
    }
   },
   "outputs": [],
   "source": [
    "ef = EfficientFrontier(mu, S)\n",
    "ef.min_volatility()\n",
    "weights = ef.clean_weights(rounding=2)\n",
    "backtest.add_strategy(weights, name=\"ef_min_vol\")\n",
    "ef.portfolio_performance(verbose=True)"
   ]
  },
  {
   "cell_type": "code",
   "execution_count": null,
   "metadata": {
    "pycharm": {
     "name": "#%% efficient frontier | min volatility | weights\n"
    }
   },
   "outputs": [],
   "source": [
    "for asset, weight in sorted(weights.items(), key=lambda x: x[1], reverse=True):\n",
    "    if weight > 0:\n",
    "        print(f\"{asset}: {weight}\")\n"
   ]
  },
  {
   "cell_type": "code",
   "execution_count": null,
   "metadata": {
    "pycharm": {
     "name": "#%% efficient frontier | max sharpe\n"
    }
   },
   "outputs": [],
   "source": [
    "ef = EfficientFrontier(mu, S)\n",
    "ef.max_sharpe()\n",
    "weights = ef.clean_weights(rounding=2)\n",
    "backtest.add_strategy(weights, name=\"ef_max_sharpe\")\n",
    "ef.portfolio_performance(verbose=True)"
   ]
  },
  {
   "cell_type": "code",
   "execution_count": null,
   "metadata": {
    "pycharm": {
     "name": "#%% efficient frontier | max sharpe | weights\n"
    }
   },
   "outputs": [],
   "source": [
    "for asset, weight in sorted(weights.items(), key=lambda x: x[1], reverse=True):\n",
    "    if weight > 0:\n",
    "        print(f\"{asset}: {weight}\")\n"
   ]
  },
  {
   "cell_type": "code",
   "execution_count": null,
   "metadata": {
    "pycharm": {
     "name": "#%% efficient frontier | max quadratic\n"
    }
   },
   "outputs": [],
   "source": [
    "ef = EfficientFrontier(mu, S)\n",
    "ef.max_quadratic_utility()\n",
    "weights = ef.clean_weights(rounding=2)\n",
    "backtest.add_strategy(weights, name=\"ef_max_quadratic\")\n",
    "ef.portfolio_performance(verbose=True)"
   ]
  },
  {
   "cell_type": "code",
   "execution_count": null,
   "metadata": {
    "pycharm": {
     "name": "#%% efficient frontier | max quadratic | weights\n"
    }
   },
   "outputs": [],
   "source": [
    "for asset, weight in sorted(weights.items(), key=lambda x: x[1], reverse=True):\n",
    "    if weight > 0:\n",
    "        print(f\"{asset}: {weight}\")"
   ]
  },
  {
   "cell_type": "code",
   "execution_count": null,
   "metadata": {
    "pycharm": {
     "name": "#%% run backtesting\n"
    }
   },
   "outputs": [],
   "source": [
    "results = backtest.run()\n",
    "results.display()\n"
   ]
  },
  {
   "cell_type": "code",
   "execution_count": null,
   "metadata": {
    "pycharm": {
     "name": "#%%\n"
    }
   },
   "outputs": [],
   "source": [
    "results.plot(freq=\"D\", figsize=(20, 10), title=\"Capital gains\")"
   ]
  }
 ],
 "metadata": {
  "kernelspec": {
   "display_name": "Python 3 (ipykernel)",
   "language": "python",
   "name": "python3"
  },
  "language_info": {
   "codemirror_mode": {
    "name": "ipython",
    "version": 3
   },
   "file_extension": ".py",
   "mimetype": "text/x-python",
   "name": "python",
   "nbconvert_exporter": "python",
   "pygments_lexer": "ipython3",
   "version": "3.9.6"
  }
 },
 "nbformat": 4,
 "nbformat_minor": 1
}
